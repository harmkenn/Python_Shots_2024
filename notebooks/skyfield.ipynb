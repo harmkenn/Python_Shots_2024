{
 "cells": [
  {
   "cell_type": "markdown",
   "metadata": {},
   "source": [
    "Skyfield has only a single binary dependency, the NumPy vector library, and is designed to install cleanly with a single invocation of the standard Python package tool:\n",
    "https://rhodesmill.org/skyfield/installation.html"
   ]
  },
  {
   "cell_type": "code",
   "execution_count": 1,
   "metadata": {},
   "outputs": [
    {
     "name": "stdout",
     "output_type": "stream",
     "text": [
      "Collecting skyfield\n",
      "  Downloading skyfield-1.46-py3-none-any.whl (446 kB)\n",
      "                                              0.0/446.0 kB ? eta -:--:--\n",
      "                                              10.2/446.0 kB ? eta -:--:--\n",
      "                                              10.2/446.0 kB ? eta -:--:--\n",
      "     ---                                   41.0/446.0 kB 217.9 kB/s eta 0:00:02\n",
      "     -----                                 61.4/446.0 kB 251.0 kB/s eta 0:00:02\n",
      "     -----                                 71.7/446.0 kB 261.4 kB/s eta 0:00:02\n",
      "     ---------                            122.9/446.0 kB 379.3 kB/s eta 0:00:01\n",
      "     ---------------                      194.6/446.0 kB 512.0 kB/s eta 0:00:01\n",
      "     --------------------                 256.0/446.0 kB 603.8 kB/s eta 0:00:01\n",
      "     -------------------------------      389.1/446.0 kB 807.8 kB/s eta 0:00:01\n",
      "     -----------------------------------  440.3/446.0 kB 886.8 kB/s eta 0:00:01\n",
      "     -----------------------------------  440.3/446.0 kB 886.8 kB/s eta 0:00:01\n",
      "     ------------------------------------ 446.0/446.0 kB 733.7 kB/s eta 0:00:00\n",
      "Requirement already satisfied: certifi>=2017.4.17 in c:\\users\\harmk\\appdata\\local\\programs\\python\\python311\\lib\\site-packages (from skyfield) (2023.5.7)\n",
      "Collecting jplephem>=2.13 (from skyfield)\n",
      "  Downloading jplephem-2.18-py3-none-any.whl (46 kB)\n",
      "                                              0.0/46.7 kB ? eta -:--:--\n",
      "     -----------------------------------      41.0/46.7 kB ? eta -:--:--\n",
      "     -------------------------------------- 46.7/46.7 kB 775.3 kB/s eta 0:00:00\n",
      "Requirement already satisfied: numpy in c:\\users\\harmk\\appdata\\local\\programs\\python\\python311\\lib\\site-packages (from skyfield) (1.24.3)\n",
      "Collecting sgp4>=2.2 (from skyfield)\n",
      "  Downloading sgp4-2.22-cp311-cp311-win_amd64.whl (160 kB)\n",
      "                                              0.0/160.7 kB ? eta -:--:--\n",
      "     -------------------------------------- 160.7/160.7 kB 3.2 MB/s eta 0:00:00\n",
      "Installing collected packages: sgp4, jplephem, skyfield\n",
      "Successfully installed jplephem-2.18 sgp4-2.22 skyfield-1.46\n",
      "Note: you may need to restart the kernel to use updated packages.\n"
     ]
    }
   ],
   "source": [
    "pip install skyfield"
   ]
  },
  {
   "cell_type": "code",
   "execution_count": 2,
   "metadata": {},
   "outputs": [],
   "source": [
    "import skyfield\n",
    "\n",
    "if skyfield.VERSION < (1, 24):\n",
    "    print('Too old')"
   ]
  },
  {
   "cell_type": "markdown",
   "metadata": {},
   "source": [
    "Computing the position of Mars in the sky is as easy as:"
   ]
  },
  {
   "cell_type": "code",
   "execution_count": 4,
   "metadata": {},
   "outputs": [
    {
     "name": "stderr",
     "output_type": "stream",
     "text": [
      "[#################################] 100% de421.bsp\n"
     ]
    },
    {
     "name": "stdout",
     "output_type": "stream",
     "text": [
      "10h 20m 10.57s\n",
      "+11deg 30' 45.9\"\n",
      "2.29441 au\n"
     ]
    }
   ],
   "source": [
    "from skyfield.api import load\n",
    "\n",
    "# Create a timescale and ask the current time.\n",
    "ts = load.timescale()\n",
    "t = ts.now()\n",
    "\n",
    "# Load the JPL ephemeris DE421 (covers 1900-2050).\n",
    "planets = load('de421.bsp')\n",
    "earth, mars = planets['earth'], planets['mars']\n",
    "\n",
    "# What's the position of Mars, viewed from Earth?\n",
    "astrometric = earth.at(t).observe(mars)\n",
    "ra, dec, distance = astrometric.radec()\n",
    "\n",
    "print(ra)\n",
    "print(dec)\n",
    "print(distance)"
   ]
  },
  {
   "cell_type": "markdown",
   "metadata": {},
   "source": [
    "Skyfield can compute geocentric coordinates, as shown in the example above, or topocentric coordinates specific to your location on the Earth’s surface:"
   ]
  },
  {
   "cell_type": "code",
   "execution_count": 5,
   "metadata": {},
   "outputs": [
    {
     "name": "stdout",
     "output_type": "stream",
     "text": [
      "-24deg 18' 36.1\"\n",
      "45deg 08' 47.3\"\n"
     ]
    }
   ],
   "source": [
    "from skyfield.api import N, W, wgs84\n",
    "\n",
    "boston = earth + wgs84.latlon(42.3583 * N, 71.0636 * W)\n",
    "astrometric = boston.at(t).observe(mars)\n",
    "alt, az, d = astrometric.apparent().altaz()\n",
    "\n",
    "print(alt)\n",
    "print(az)"
   ]
  },
  {
   "cell_type": "markdown",
   "metadata": {},
   "source": [
    "https://rhodesmill.org/skyfield/api.html\n",
    "Skyfield offers a tuple skyfield.VERSION that lets your code determine the installed version of Skyfield."
   ]
  },
  {
   "cell_type": "code",
   "execution_count": 6,
   "metadata": {},
   "outputs": [
    {
     "name": "stdout",
     "output_type": "stream",
     "text": [
      "(1, 46)\n"
     ]
    }
   ],
   "source": [
    "import skyfield\n",
    "print(skyfield.VERSION)"
   ]
  },
  {
   "cell_type": "code",
   "execution_count": 7,
   "metadata": {},
   "outputs": [
    {
     "ename": "NameError",
     "evalue": "name 'Geoid' is not defined",
     "output_type": "error",
     "traceback": [
      "\u001b[1;31m---------------------------------------------------------------------------\u001b[0m",
      "\u001b[1;31mNameError\u001b[0m                                 Traceback (most recent call last)",
      "Cell \u001b[1;32mIn[7], line 1\u001b[0m\n\u001b[1;32m----> 1\u001b[0m Geoid\u001b[39m.\u001b[39mlatlon(\u001b[39m30\u001b[39m,\u001b[39m30\u001b[39m)\n",
      "\u001b[1;31mNameError\u001b[0m: name 'Geoid' is not defined"
     ]
    }
   ],
   "source": [
    "from skyfield\n",
    "Geoid.latlon(30,30)"
   ]
  },
  {
   "cell_type": "markdown",
   "metadata": {},
   "source": [
    "Sure, you can use the Skyfield package in Python to find the location of the moon. Here is an example of a Python program that you can use:"
   ]
  },
  {
   "cell_type": "code",
   "execution_count": 10,
   "metadata": {},
   "outputs": [
    {
     "ename": "ModuleNotFoundError",
     "evalue": "No module named 'skyfield.position'",
     "output_type": "error",
     "traceback": [
      "\u001b[1;31m---------------------------------------------------------------------------\u001b[0m",
      "\u001b[1;31mModuleNotFoundError\u001b[0m                       Traceback (most recent call last)",
      "Cell \u001b[1;32mIn[10], line 1\u001b[0m\n\u001b[1;32m----> 1\u001b[0m \u001b[39mfrom\u001b[39;00m \u001b[39mskyfield\u001b[39;00m\u001b[39m.\u001b[39;00m\u001b[39mposition\u001b[39;00m \u001b[39mimport\u001b[39;00m Observer\n\u001b[0;32m      3\u001b[0m observer \u001b[39m=\u001b[39m Observer(\u001b[39m\"\u001b[39m\u001b[39m38.5763,-121.9240\u001b[39m\u001b[39m\"\u001b[39m)\n\u001b[0;32m      4\u001b[0m moon \u001b[39m=\u001b[39m skyfield\u001b[39m.\u001b[39mapi\u001b[39m.\u001b[39mMoon()\n",
      "\u001b[1;31mModuleNotFoundError\u001b[0m: No module named 'skyfield.position'"
     ]
    }
   ],
   "source": [
    "from skyfield.position import Observer\n",
    "\n",
    "observer = Observer(\"38.5763,-121.9240\")\n",
    "moon = skyfield.api.Moon()\n",
    "\n",
    "position = observer.at(moon.epoch).observe(moon)\n",
    "\n",
    "print(position)\n",
    "\n"
   ]
  },
  {
   "cell_type": "markdown",
   "metadata": {},
   "source": [
    "ChatGPT\n",
    "\n",
    "To find the location of the Moon using the Skyfield package in Python, you can follow the steps below:\n",
    "\n",
    "Install Skyfield: Make sure you have Skyfield installed in your Python environment. You can install it using pip:"
   ]
  },
  {
   "cell_type": "code",
   "execution_count": 11,
   "metadata": {},
   "outputs": [],
   "source": [
    "from skyfield.api import load, Topos\n",
    "from datetime import datetime"
   ]
  },
  {
   "cell_type": "markdown",
   "metadata": {},
   "source": [
    "Load the necessary data: Load the necessary data files from the Skyfield package. In this case, we need to load the Earth and Moon ephemeris files."
   ]
  },
  {
   "cell_type": "code",
   "execution_count": 12,
   "metadata": {},
   "outputs": [],
   "source": [
    "data = load('de421.bsp')\n",
    "earth = data['earth']\n",
    "moon = data['moon']"
   ]
  },
  {
   "cell_type": "markdown",
   "metadata": {},
   "source": [
    "Define the observer's location: You need to specify the observer's location on Earth. For example, if you want to find the Moon's location from San Francisco, you can define it as follows:"
   ]
  },
  {
   "cell_type": "code",
   "execution_count": 13,
   "metadata": {},
   "outputs": [],
   "source": [
    "observer_latitude = 37.7749\n",
    "observer_longitude = -122.4194\n",
    "observer_elevation = 0  # in meters\n",
    "observer = earth + Topos(observer_latitude, observer_longitude, elevation_m=observer_elevation)"
   ]
  },
  {
   "cell_type": "markdown",
   "metadata": {},
   "source": [
    "Get the current date and time: Retrieve the current date and time using the datetime module."
   ]
  },
  {
   "cell_type": "code",
   "execution_count": 14,
   "metadata": {},
   "outputs": [
    {
     "data": {
      "text/plain": [
       "datetime.datetime(2023, 7, 15, 10, 37, 39, 987395)"
      ]
     },
     "execution_count": 14,
     "metadata": {},
     "output_type": "execute_result"
    }
   ],
   "source": [
    "current_time = datetime.utcnow()\n",
    "current_time"
   ]
  },
  {
   "cell_type": "code",
   "execution_count": 18,
   "metadata": {},
   "outputs": [
    {
     "data": {
      "text/plain": [
       "<Time tt=2460140.943613241>"
      ]
     },
     "execution_count": 18,
     "metadata": {},
     "output_type": "execute_result"
    }
   ],
   "source": [
    "# Convert the datetime object to a Skyfield Time object\n",
    "ts = load.timescale()\n",
    "time = ts.utc(current_time.year, current_time.month, current_time.day,\n",
    "              current_time.hour, current_time.minute, current_time.second)\n",
    "time"
   ]
  },
  {
   "cell_type": "markdown",
   "metadata": {},
   "source": [
    "Calculate the Moon's position: Use the Skyfield package to calculate the Moon's position at the specified observer's location and time."
   ]
  },
  {
   "cell_type": "code",
   "execution_count": 19,
   "metadata": {},
   "outputs": [
    {
     "data": {
      "text/plain": [
       "<Astrometric ICRS position and velocity at date t center=IERS2010 latitude +37.7749 N longitude -122.4194 E elevation 0.0 m target=301>"
      ]
     },
     "execution_count": 19,
     "metadata": {},
     "output_type": "execute_result"
    }
   ],
   "source": [
    "# Calculate the Moon's position\n",
    "moon_position = observer.at(time).observe(moon)\n",
    "moon_position"
   ]
  },
  {
   "cell_type": "code",
   "execution_count": 21,
   "metadata": {},
   "outputs": [
    {
     "data": {
      "text/plain": [
       "<Apparent ICRS position and velocity at date t center=IERS2010 latitude +37.7749 N longitude -122.4194 E elevation 0.0 m target=301>"
      ]
     },
     "execution_count": 21,
     "metadata": {},
     "output_type": "execute_result"
    }
   ],
   "source": [
    "# Get the apparent position\n",
    "apparent_moon = moon_position.apparent()\n",
    "apparent_moon"
   ]
  },
  {
   "cell_type": "code",
   "execution_count": 23,
   "metadata": {},
   "outputs": [
    {
     "data": {
      "text/plain": [
       "(-2.3955032824605746, 52.73672628618283)"
      ]
     },
     "execution_count": 23,
     "metadata": {},
     "output_type": "execute_result"
    }
   ],
   "source": [
    "# Extract the altitude and azimuth\n",
    "altitude = apparent_moon.altaz()[0].degrees\n",
    "azimuth = apparent_moon.altaz()[1].degrees\n",
    "\n",
    "altitude, azimuth"
   ]
  },
  {
   "cell_type": "code",
   "execution_count": 24,
   "metadata": {},
   "outputs": [
    {
     "name": "stdout",
     "output_type": "stream",
     "text": [
      "Altitude: -20.954195967207518\n",
      "Azimuth: 37.45887170327161\n"
     ]
    }
   ],
   "source": [
    "from skyfield.api import load, Topos\n",
    "from datetime import datetime\n",
    "from skyfield.api import utc\n",
    "\n",
    "# Load the necessary data\n",
    "data = load('de421.bsp')\n",
    "earth = data['earth']\n",
    "sun = data['sun']\n",
    "\n",
    "# Define the observer's location\n",
    "observer_latitude = 37.7749\n",
    "observer_longitude = -122.4194\n",
    "observer_elevation = 0  # in meters\n",
    "observer = earth + Topos(observer_latitude, observer_longitude, elevation_m=observer_elevation)\n",
    "\n",
    "# Get the current date and time\n",
    "current_time = datetime.utcnow()\n",
    "\n",
    "# Convert the datetime object to a Skyfield Time object\n",
    "ts = load.timescale()\n",
    "time = ts.utc(current_time.year, current_time.month, current_time.day,\n",
    "              current_time.hour, current_time.minute, current_time.second)\n",
    "\n",
    "# Calculate the Sun's position\n",
    "sun_position = observer.at(time).observe(sun)\n",
    "\n",
    "# Get the apparent position\n",
    "apparent_sun = sun_position.apparent()\n",
    "\n",
    "# Extract the altitude and azimuth\n",
    "altitude = apparent_sun.altaz()[0].degrees\n",
    "azimuth = apparent_sun.altaz()[1].degrees\n",
    "\n",
    "print(\"Altitude:\", altitude)\n",
    "print(\"Azimuth:\", azimuth)\n"
   ]
  }
 ],
 "metadata": {
  "kernelspec": {
   "display_name": "Python 3",
   "language": "python",
   "name": "python3"
  },
  "language_info": {
   "codemirror_mode": {
    "name": "ipython",
    "version": 3
   },
   "file_extension": ".py",
   "mimetype": "text/x-python",
   "name": "python",
   "nbconvert_exporter": "python",
   "pygments_lexer": "ipython3",
   "version": "3.11.4"
  },
  "orig_nbformat": 4
 },
 "nbformat": 4,
 "nbformat_minor": 2
}
