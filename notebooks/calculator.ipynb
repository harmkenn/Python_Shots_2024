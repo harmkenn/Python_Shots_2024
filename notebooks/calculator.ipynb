{
 "cells": [
  {
   "cell_type": "markdown",
   "metadata": {},
   "source": [
    "The inverse geodesic problem allows you to work backward from the destination point using the distance and bearing to find the starting point.\n",
    "To estimate the starting point coordinates, you can use the following steps:\n",
    "1.\tConvert the destination coordinates from degrees to radians.\n",
    "2.\tConvert the distance traveled from any units (e.g., kilometers, miles) to the Earth's radius units (e.g., kilometers, miles).\n",
    "3.\tConvert the initial bearing to radians.\n",
    "4.\tUse the following formula to calculate the starting point coordinates:\n",
    "scssCopy code\n",
    "lat1 = asin(sin(lat2) * cos(d/R) - cos(lat2) * sin(d/R) * cos(θ)) \n",
    "long1 = long2 - atan2(sin(θ) * sin(d/R) * cos(lat2), cos(d/R) - sin(lat2) * sin(lat1)) \n",
    "Where:\n",
    "•\tlat2 and long2 are the latitude and longitude of the destination point (in radians).\n",
    "•\td is the distance traveled in the given direction (in Earth's radius units).\n",
    "•\tR is the radius of the Earth (mean radius of Earth is about 6,371 kilometers or 3,959 miles).\n",
    "•\tθ is the initial bearing (converted to radians)."
   ]
  },
  {
   "cell_type": "code",
   "execution_count": 2,
   "metadata": {},
   "outputs": [],
   "source": [
    "import numpy as np\n",
    "\n",
    "# Toronto\n",
    "latT = 43.67973\n",
    "lonT = -79.62273\n",
    "# Agadir\n",
    "latA = 30.42775\n",
    "lonA = -9.59811\n",
    "#Toronto to Agadir\n",
    "dist = 6212043.0 #meters\n",
    "Azimuth = 78.64 # degrees\n",
    "\n",
    "Edist = dist / 1000 / 6371 # distance in earth radii\n",
    "Azimuthr = Azimuth * np.pi / 180 # Azimuth in radians\n",
    "\n",
    "latAr = latA * np.pi / 180 \n",
    "lonAr = lonA * np.pi / 180\n",
    "\n",
    "lat1 = asin(sin(lat2) * cos(d/R) - cos(lat2) * sin(d/R) * cos(θ)) \n",
    "latTc =  asin(sin(lat2) * cos(d/R) - cos(lat2) * sin(d/R) * cos(θ)) "
   ]
  }
 ],
 "metadata": {
  "kernelspec": {
   "display_name": "Python 3",
   "language": "python",
   "name": "python3"
  },
  "language_info": {
   "codemirror_mode": {
    "name": "ipython",
    "version": 3
   },
   "file_extension": ".py",
   "mimetype": "text/x-python",
   "name": "python",
   "nbconvert_exporter": "python",
   "pygments_lexer": "ipython3",
   "version": "3.11.1"
  },
  "orig_nbformat": 4
 },
 "nbformat": 4,
 "nbformat_minor": 2
}
