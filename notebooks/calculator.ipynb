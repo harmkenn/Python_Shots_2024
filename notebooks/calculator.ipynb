{
 "cells": [
  {
   "cell_type": "markdown",
   "metadata": {},
   "source": [
    "You can use the formula below to calculate the coordinates of the unknown point given the bearing and distance from a known point 1:\n",
    "\n",
    "la2 = asin(sin(la1)*cos(d/R) + cos(la1)*sin(d/R)*cos(θ))\n",
    "\n",
    "lo2 = lo1 + atan2(sin(θ)*sin(d/R)*cos(la1), cos(d/R)−sin(la1)*sin(la2))\n",
    "\n",
    "Where:\n",
    "\n",
    "la1 is the latitude of the known point in radians.\n",
    "lo1 is the longitude of the known point in radians.\n",
    "d is the distance between the two points in km.\n",
    "R is the radius of the Earth in km (mean radius = 6,371km).\n",
    "θ is the bearing in radians (clockwise from north)."
   ]
  },
  {
   "cell_type": "code",
   "execution_count": 6,
   "metadata": {},
   "outputs": [
    {
     "data": {
      "text/plain": [
       "25.13598161842719"
      ]
     },
     "execution_count": 6,
     "metadata": {},
     "output_type": "execute_result"
    }
   ],
   "source": [
    "import numpy as np\n",
    "\n",
    "# Toronto\n",
    "latT = 43.67973\n",
    "lonT = -79.62273\n",
    "# Agadir\n",
    "latA = 30.42775\n",
    "lonA = -9.59811\n",
    "#Toronto to Agadir\n",
    "dist = 6212043.0 #meters\n",
    "Azimuth = 78.64 # degrees\n",
    "\n",
    "Edist = dist / 1000 / 6371 # distance in earth radii\n",
    "Azimuthr = Azimuth * np.pi / 180 # Azimuth in radians\n",
    "\n",
    "latAr = latA * np.pi / 180 \n",
    "lonAr = lonA * np.pi / 180\n",
    "\n",
    "lat1 = np.arcsin(np.sin(latAr) * np.cos(Edist) + np.cos(latAr) * np.sin(Edist) * np.cos(Azimuthr)) \n",
    "latTc = lat1 *180/np.pi\n",
    "latTc\n",
    "#latTc =  asin(sin(lat2) * cos(d/R) - cos(lat2) * sin(d/R) * cos(θ)) "
   ]
  },
  {
   "cell_type": "code",
   "execution_count": 9,
   "metadata": {},
   "outputs": [
    {
     "name": "stdout",
     "output_type": "stream",
     "text": [
      "6212.042723053103 km\n"
     ]
    }
   ],
   "source": [
    "from geopy.distance import geodesic\n",
    "newport_ri = (43.67973, -79.62273)\n",
    "cleveland_oh = (30.42775, -9.59811)\n",
    "print(geodesic(newport_ri, cleveland_oh))"
   ]
  },
  {
   "cell_type": "markdown",
   "metadata": {},
   "source": [
    "https://pyproj4.github.io/pyproj/stable/api/geod.html#pyproj.Geod.__init__"
   ]
  },
  {
   "cell_type": "code",
   "execution_count": 13,
   "metadata": {},
   "outputs": [
    {
     "name": "stdout",
     "output_type": "stream",
     "text": [
      "78.57917310334322 -55.35923661019157 6212042.723053102\n"
     ]
    }
   ],
   "source": [
    "import pyproj\n",
    "geodesic = pyproj.Geod(ellps='WGS84')\n",
    "fwd_azimuth,back_azimuth,distance = geodesic.inv(-79.62273,43.67973, -9.59811, 30.42775)\n",
    "print(fwd_azimuth,back_azimuth,distance)"
   ]
  },
  {
   "cell_type": "code",
   "execution_count": 15,
   "metadata": {},
   "outputs": [
    {
     "name": "stdout",
     "output_type": "stream",
     "text": [
      "-9.598110000000005 30.427750000000017 -55.35923661019157\n"
     ]
    }
   ],
   "source": [
    "endlon, endlat, backaz = geodesic.fwd(-79.62273,43.67973, fwd_azimuth, distance)\n",
    "print(endlon, endlat, backaz)"
   ]
  },
  {
   "cell_type": "code",
   "execution_count": 16,
   "metadata": {},
   "outputs": [
    {
     "name": "stdout",
     "output_type": "stream",
     "text": [
      "Ending Location: (Latitude: 30.438771933720766, Longitude: -9.534708335221932)\n",
      "Reverse Azimuth: -101.3278848744713 degrees\n"
     ]
    }
   ],
   "source": [
    "import pyproj\n",
    "\n",
    "# Define the WGS84 (EPSG:4326) projection\n",
    "wgs84 = pyproj.CRS(\"EPSG:4326\")\n",
    "\n",
    "# Create the Geod object for geodetic computations\n",
    "geod = pyproj.Geod(ellps=\"WGS84\")\n",
    "\n",
    "# Input latitude and longitude of the starting location\n",
    "lon1, lat1 = -9.59811, 30.42775\n",
    "\n",
    "# Input forward azimuth in degrees\n",
    "forward_azimuth_deg = 78.64\n",
    "\n",
    "# Input distance in meters\n",
    "distance_meters = 6212\n",
    "\n",
    "# Calculate the ending location coordinates (lat2, lon2)\n",
    "lon2, lat2, reverse_azimuth_deg = geod.fwd(lon1, lat1, forward_azimuth_deg, distance_meters)\n",
    "\n",
    "print(f\"Ending Location: (Latitude: {lat2}, Longitude: {lon2})\")\n",
    "print(f\"Reverse Azimuth: {reverse_azimuth_deg} degrees\")"
   ]
  }
 ],
 "metadata": {
  "kernelspec": {
   "display_name": "Python 3",
   "language": "python",
   "name": "python3"
  },
  "language_info": {
   "codemirror_mode": {
    "name": "ipython",
    "version": 3
   },
   "file_extension": ".py",
   "mimetype": "text/x-python",
   "name": "python",
   "nbconvert_exporter": "python",
   "pygments_lexer": "ipython3",
   "version": "3.11.4"
  },
  "orig_nbformat": 4
 },
 "nbformat": 4,
 "nbformat_minor": 2
}
