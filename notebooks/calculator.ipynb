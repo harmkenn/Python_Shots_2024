{
 "cells": [
  {
   "cell_type": "markdown",
   "metadata": {},
   "source": [
    "You can use the formula below to calculate the coordinates of the unknown point given the bearing and distance from a known point 1:\n",
    "\n",
    "la2 = asin(sin(la1)*cos(d/R) + cos(la1)*sin(d/R)*cos(θ))\n",
    "\n",
    "lo2 = lo1 + atan2(sin(θ)*sin(d/R)*cos(la1), cos(d/R)−sin(la1)*sin(la2))\n",
    "\n",
    "Where:\n",
    "\n",
    "la1 is the latitude of the known point in radians.\n",
    "lo1 is the longitude of the known point in radians.\n",
    "d is the distance between the two points in km.\n",
    "R is the radius of the Earth in km (mean radius = 6,371km).\n",
    "θ is the bearing in radians (clockwise from north)."
   ]
  },
  {
   "cell_type": "code",
   "execution_count": 6,
   "metadata": {},
   "outputs": [
    {
     "data": {
      "text/plain": [
       "25.13598161842719"
      ]
     },
     "execution_count": 6,
     "metadata": {},
     "output_type": "execute_result"
    }
   ],
   "source": [
    "import numpy as np\n",
    "\n",
    "# Toronto\n",
    "latT = 43.67973\n",
    "lonT = -79.62273\n",
    "# Agadir\n",
    "latA = 30.42775\n",
    "lonA = -9.59811\n",
    "#Toronto to Agadir\n",
    "dist = 6212043.0 #meters\n",
    "Azimuth = 78.64 # degrees\n",
    "\n",
    "Edist = dist / 1000 / 6371 # distance in earth radii\n",
    "Azimuthr = Azimuth * np.pi / 180 # Azimuth in radians\n",
    "\n",
    "latAr = latA * np.pi / 180 \n",
    "lonAr = lonA * np.pi / 180\n",
    "\n",
    "lat1 = np.arcsin(np.sin(latAr) * np.cos(Edist) + np.cos(latAr) * np.sin(Edist) * np.cos(Azimuthr)) \n",
    "latTc = lat1 *180/np.pi\n",
    "latTc\n",
    "#latTc =  asin(sin(lat2) * cos(d/R) - cos(lat2) * sin(d/R) * cos(θ)) "
   ]
  },
  {
   "cell_type": "code",
   "execution_count": 9,
   "metadata": {},
   "outputs": [
    {
     "name": "stdout",
     "output_type": "stream",
     "text": [
      "6212.042723053103 km\n"
     ]
    }
   ],
   "source": [
    "from geopy.distance import geodesic\n",
    "newport_ri = (43.67973, -79.62273)\n",
    "cleveland_oh = (30.42775, -9.59811)\n",
    "print(geodesic(newport_ri, cleveland_oh))"
   ]
  },
  {
   "cell_type": "markdown",
   "metadata": {},
   "source": [
    "https://pyproj4.github.io/pyproj/stable/api/geod.html#pyproj.Geod.__init__"
   ]
  },
  {
   "cell_type": "code",
   "execution_count": 13,
   "metadata": {},
   "outputs": [
    {
     "name": "stdout",
     "output_type": "stream",
     "text": [
      "78.57917310334322 -55.35923661019157 6212042.723053102\n"
     ]
    }
   ],
   "source": [
    "import pyproj\n",
    "geodesic = pyproj.Geod(ellps='WGS84')\n",
    "fwd_azimuth,back_azimuth,distance = geodesic.inv(-79.62273,43.67973, -9.59811, 30.42775)\n",
    "print(fwd_azimuth,back_azimuth,distance)"
   ]
  },
  {
   "cell_type": "code",
   "execution_count": 15,
   "metadata": {},
   "outputs": [
    {
     "name": "stdout",
     "output_type": "stream",
     "text": [
      "-9.598110000000005 30.427750000000017 -55.35923661019157\n"
     ]
    }
   ],
   "source": [
    "endlon, endlat, backaz = geodesic.fwd(-79.62273,43.67973, fwd_azimuth, distance)\n",
    "print(endlon, endlat, backaz)"
   ]
  },
  {
   "cell_type": "code",
   "execution_count": 26,
   "metadata": {},
   "outputs": [
    {
     "name": "stdout",
     "output_type": "stream",
     "text": [
      "8.232942011217844 -7.98536713275144 66.2438494461199\n",
      "-8.707674003432558 40.82521367437183 75.4499676947431\n"
     ]
    }
   ],
   "source": [
    "import pyproj\n",
    "geodesic = pyproj.Geod(ellps='WGS84')\n",
    "P1az = 75.45\n",
    "dist = 8353530\n",
    "P2lat = 20.59368\n",
    "P2lon = 78.96287\n",
    "P2az = P1az + 180\n",
    "endlon, endlat, backaz = geodesic.fwd(P2lon,P2lat,P2az,dist)\n",
    "print(endlon, endlat, backaz)\n",
    "for i in range(1, 200):\n",
    "    P2az = P1az - backaz + P2az\n",
    "    endlon, endlat, backaz = geodesic.fwd(P2lon,P2lat,P2az,dist)\n",
    "    if backaz < 0: backaz = backaz + 360\n",
    "print(endlon, endlat, backaz)"
   ]
  }
 ],
 "metadata": {
  "kernelspec": {
   "display_name": "Python 3",
   "language": "python",
   "name": "python3"
  },
  "language_info": {
   "codemirror_mode": {
    "name": "ipython",
    "version": 3
   },
   "file_extension": ".py",
   "mimetype": "text/x-python",
   "name": "python",
   "nbconvert_exporter": "python",
   "pygments_lexer": "ipython3",
   "version": "3.11.1"
  },
  "orig_nbformat": 4
 },
 "nbformat": 4,
 "nbformat_minor": 2
}
