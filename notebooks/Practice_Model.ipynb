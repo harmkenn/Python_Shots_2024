{
 "cells": [
  {
   "cell_type": "code",
   "execution_count": null,
   "metadata": {
    "vscode": {
     "languageId": "plaintext"
    }
   },
   "outputs": [],
   "source": [
    "import pandas as pd\n",
    "from sklearn.linear_model import LinearRegression\n",
    "from sklearn.model_selection import train_test_split\n",
    "from sklearn.metrics import r2_score\n",
    "\n",
    "# Load data from CSV file\n",
    "data = pd.read_csv('sample_data.csv')\n",
    "\n",
    "# Extract the feature and target variables\n",
    "X = data[['feature1', 'feature2', 'feature3', 'feature4', 'feature5']]\n",
    "y = data['target']\n",
    "\n",
    "# Split data into training and testing sets\n",
    "X_train, X_test, y_train, y_test = train_test_split(X, y, test_size=0.2, random_state=42)\n",
    "\n",
    "# Create a Linear Regression model\n",
    "lr = LinearRegression()\n",
    "\n",
    "# Train the model on the training data\n",
    "lr.fit(X_train, y_train)\n",
    "\n",
    "# Use the trained model to make predictions on the test data\n",
    "y_pred = lr.predict(X_test)\n",
    "\n",
    "# Evaluate the performance of the model\n",
    "r_squared = r2_score(y_test, y_pred)\n",
    "\n",
    "print(\"R-squared:\", r_squared)\n"
   ]
  }
 ],
 "metadata": {
  "language_info": {
   "name": "python"
  },
  "orig_nbformat": 4
 },
 "nbformat": 4,
 "nbformat_minor": 2
}
