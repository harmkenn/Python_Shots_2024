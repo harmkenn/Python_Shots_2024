{
 "cells": [
  {
   "cell_type": "code",
   "execution_count": 5,
   "metadata": {},
   "outputs": [
    {
     "name": "stdout",
     "output_type": "stream",
     "text": [
      "R-squared: 0.8986239596891963\n"
     ]
    }
   ],
   "source": [
    "import pandas as pd\n",
    "from sklearn.linear_model import LinearRegression\n",
    "from sklearn.model_selection import train_test_split\n",
    "from sklearn.metrics import r2_score\n",
    "\n",
    "# Load data from CSV file\n",
    "data = pd.read_csv('../data/M795Macs.csv')\n",
    "\n",
    "# Extract the feature and target variables\n",
    "X = data[['Range (M)', 'LAT (deg)', 'GTL (mils)', 'VI (M)', 'MV (m/s)']]\n",
    "y = data[['Drift', 'QE (mils)', 'MV (m/s)', 'TOF', 'MAX Ord (M)']]\n",
    "\n",
    "# Split data into training and testing sets\n",
    "X_train, X_test, y_train, y_test = train_test_split(X, y, test_size=0.2, random_state=42)\n",
    "\n",
    "# Create a Linear Regression model\n",
    "lr = LinearRegression()\n",
    "\n",
    "# Train the model on the training data\n",
    "lr.fit(X_train, y_train)\n",
    "\n",
    "# Use the trained model to make predictions on the test data\n",
    "y_pred = lr.predict(X_test)\n",
    "\n",
    "# Evaluate the performance of the model\n",
    "r_squared = r2_score(y_test, y_pred)\n",
    "\n",
    "print(\"R-squared:\", r_squared)\n"
   ]
  },
  {
   "cell_type": "code",
   "execution_count": 12,
   "metadata": {},
   "outputs": [
    {
     "data": {
      "text/plain": [
       "array([[  10.16590754,  323.64221937,  568.7       ,   29.34704469,\n",
       "        1351.16929789]])"
      ]
     },
     "execution_count": 12,
     "metadata": {},
     "output_type": "execute_result"
    }
   ],
   "source": [
    "andthis = {'Range (M)':10507, 'LAT (deg)':0, 'GTL (mils)':6045, 'VI (M)':-100, 'MV (m/s)':568.7}\n",
    "andthis = pd.DataFrame([andthis])\n",
    "lr.predict(andthis)"
   ]
  }
 ],
 "metadata": {
  "kernelspec": {
   "display_name": "Python 3",
   "language": "python",
   "name": "python3"
  },
  "language_info": {
   "codemirror_mode": {
    "name": "ipython",
    "version": 3
   },
   "file_extension": ".py",
   "mimetype": "text/x-python",
   "name": "python",
   "nbconvert_exporter": "python",
   "pygments_lexer": "ipython3",
   "version": "3.11.1"
  },
  "orig_nbformat": 4
 },
 "nbformat": 4,
 "nbformat_minor": 2
}
