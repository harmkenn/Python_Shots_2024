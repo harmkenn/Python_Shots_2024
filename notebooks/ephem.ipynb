{
 "cells": [
  {
   "cell_type": "markdown",
   "metadata": {},
   "source": [
    "Yes, another Python package that can compute the location of the observer given the altitude and azimuth of the Sun is ephem. The ephem package is a powerful astronomy library that provides various astronomical calculations, including the position of celestial bodies.\n",
    "\n",
    "Here's an example of how you can use the ephem package to compute the observer's location based on the altitude and azimuth of the Sun:"
   ]
  },
  {
   "cell_type": "code",
   "execution_count": 5,
   "metadata": {},
   "outputs": [
    {
     "name": "stdout",
     "output_type": "stream",
     "text": [
      "Computed Observer's Latitude: 66.60882969792706\n",
      "Computed Observer's Longitude: 14.12099390996378\n"
     ]
    }
   ],
   "source": [
    "import ephem\n",
    "import math\n",
    "\n",
    "# Define the observed altitude and azimuth of the Sun\n",
    "observed_altitude = math.radians(45.0/180*math.pi)  # in radians\n",
    "observed_azimuth = math.radians(190.0/180*math.pi)  # in radians\n",
    "\n",
    "# Create an Observer object\n",
    "observer = ephem.Observer()\n",
    "observer.lat = '0'  # Set observer's latitude (in this case, 0 degrees)\n",
    "observer.lon = '0'  # Set observer's longitude (in this case, 0 degrees)\n",
    "observer.elev = 0  # Set observer's elevation (in this case, sea level)\n",
    "observer.date = ephem.now()  # Set the current date and time\n",
    "\n",
    "# Compute the observer's location based on the observed altitude and azimuth of the Sun\n",
    "sun = ephem.Sun()\n",
    "sun_altitude = observed_altitude\n",
    "sun_azimuth = observed_azimuth\n",
    "sun.compute(observer)\n",
    "sun_altitude_diff = sun.alt - sun_altitude\n",
    "sun_azimuth_diff = sun.az - sun_azimuth\n",
    "\n",
    "# Update the observer's position based on the computed differences\n",
    "observer.lat += sun_altitude_diff\n",
    "observer.lon += sun_azimuth_diff\n",
    "\n",
    "# Extract the observer's latitude and longitude\n",
    "observer_latitude = math.degrees(observer.lat)\n",
    "observer_longitude = math.degrees(observer.lon)\n",
    "\n",
    "# Print the computed observer's location\n",
    "print(\"Computed Observer's Latitude:\", observer_latitude)\n",
    "print(\"Computed Observer's Longitude:\", observer_longitude)\n"
   ]
  },
  {
   "cell_type": "code",
   "execution_count": 8,
   "metadata": {},
   "outputs": [
    {
     "name": "stdout",
     "output_type": "stream",
     "text": [
      "Computed Sun's Azimuth: 192.24212188858536\n",
      "Computed Sun's Altitude: 65.62014769611623\n"
     ]
    }
   ],
   "source": [
    "import ephem\n",
    "\n",
    "# Create an Observer object\n",
    "observer = ephem.Observer()\n",
    "\n",
    "# Set the observer's location (latitude and longitude)\n",
    "observer.lat = '45.5'  # Example latitude (London, United Kingdom)\n",
    "observer.lon = '11.535'  # Example longitude (London, United Kingdom)\n",
    "\n",
    "# Set the date and time for the observation\n",
    "observer.date = ephem.now()  # Current date and time\n",
    "\n",
    "# Compute the position of the Sun\n",
    "sun = ephem.Sun()\n",
    "sun.compute(observer)\n",
    "\n",
    "# Get the computed azimuth and altitude of the Sun\n",
    "sun_azimuth = float(sun.az)*180/math.pi\n",
    "sun_altitude = float(sun.alt)*180/math.pi\n",
    "\n",
    "# Print the computed location of the Sun\n",
    "print(\"Computed Sun's Azimuth:\", sun_azimuth)\n",
    "print(\"Computed Sun's Altitude:\", sun_altitude)\n"
   ]
  },
  {
   "cell_type": "code",
   "execution_count": 10,
   "metadata": {},
   "outputs": [
    {
     "name": "stdout",
     "output_type": "stream",
     "text": [
      "Computed Direction to Polaris (Azimuth): 359.06323591286707\n",
      "Computed Direction to Polaris (Altitude): 51.793027362977796\n"
     ]
    }
   ],
   "source": [
    "import ephem\n",
    "import math\n",
    "\n",
    "# Create an Observer object\n",
    "observer = ephem.Observer()\n",
    "\n",
    "# Set the observer's location (latitude and longitude)\n",
    "observer.lat = '51.5074'  # Example latitude (London, United Kingdom)\n",
    "observer.lon = '-0.1278'  # Example longitude (London, United Kingdom)\n",
    "\n",
    "# Set the date and time for the observation\n",
    "observer.date = ephem.now()  # Current date and time\n",
    "\n",
    "# Compute the position of Polaris (North Star)\n",
    "polaris = ephem.star('Polaris')\n",
    "polaris.compute(observer)\n",
    "\n",
    "# Get the computed azimuth and altitude of Polaris\n",
    "polaris_azimuth = math.degrees(polaris.az)\n",
    "polaris_altitude = math.degrees(polaris.alt)\n",
    "\n",
    "# Print the computed direction to Polaris\n",
    "print(\"Computed Direction to Polaris (Azimuth):\", polaris_azimuth)\n",
    "print(\"Computed Direction to Polaris (Altitude):\", polaris_altitude)\n"
   ]
  },
  {
   "cell_type": "code",
   "execution_count": 11,
   "metadata": {},
   "outputs": [
    {
     "name": "stdout",
     "output_type": "stream",
     "text": [
      "Computed Observer's Latitude: 160.5532443148325\n",
      "Computed Observer's Longitude: 37.892418550561835\n"
     ]
    }
   ],
   "source": [
    "import ephem\n",
    "import math\n",
    "\n",
    "# Define the observed azimuth and altitude of Polaris\n",
    "observed_azimuth = math.radians(45.0)  # in radians\n",
    "observed_altitude = math.radians(30.0)  # in radians\n",
    "\n",
    "# Create an Observer object\n",
    "observer = ephem.Observer()\n",
    "\n",
    "# Set the date and time for the observation\n",
    "observer.date = ephem.now()  # Current date and time\n",
    "\n",
    "# Compute the observer's location based on the observed azimuth and altitude of Polaris\n",
    "polaris = ephem.star('Polaris')\n",
    "polaris_azimuth = observed_azimuth\n",
    "polaris_altitude = observed_altitude\n",
    "observer.lat, observer.lon = observer.radec_of(polaris_azimuth, polaris_altitude)\n",
    "\n",
    "# Extract the observer's latitude and longitude\n",
    "observer_latitude = math.degrees(observer.lat)\n",
    "observer_longitude = math.degrees(observer.lon)\n",
    "\n",
    "# Print the computed observer's location\n",
    "print(\"Computed Observer's Latitude:\", observer_latitude)\n",
    "print(\"Computed Observer's Longitude:\", observer_longitude)\n"
   ]
  },
  {
   "cell_type": "markdown",
   "metadata": {},
   "source": [
    "Here are some of the celestial bodies and phenomena that ephem can work with:\n",
    "\n",
    "Sun: The ephem.Sun class represents the Sun and allows you to compute its position, rise and set times, azimuth, altitude, and other related properties.\n",
    "\n",
    "Moon: The ephem.Moon class represents the Moon and provides information about its position, phase, rise and set times, azimuth, altitude, and more.\n",
    "\n",
    "Planets: ephem includes classes for the major planets of our solar system, such as ephem.Mercury, ephem.Venus, ephem.Mars, ephem.Jupiter, ephem.Saturn, ephem.Uranus, and ephem.Neptune. These classes allow you to compute the positions, rise and set times, azimuth, altitude, and other properties of each planet.\n",
    "\n",
    "Stars and Constellations: ephem can compute the positions and properties of individual stars using the ephem.star class. It also includes a ephem.readdb() function to read star catalogs. However, it does not have built-in support for constellations as predefined entities."
   ]
  },
  {
   "cell_type": "markdown",
   "metadata": {},
   "source": [
    "Here's an example of how you can use the ephem package to find the sub-solar point:"
   ]
  },
  {
   "cell_type": "code",
   "execution_count": 16,
   "metadata": {},
   "outputs": [
    {
     "name": "stdout",
     "output_type": "stream",
     "text": [
      "2023/7/15 12:28:01\n",
      "Computed Sub-Solar Latitude: 21.514452912824364\n",
      "Computed Sub-Solar Longitude: 114.60074742945241\n"
     ]
    }
   ],
   "source": [
    "import ephem\n",
    "\n",
    "# Create an Observer object\n",
    "observer = ephem.Observer()\n",
    "\n",
    "# Set the date and time for the observation\n",
    "observer.date = ephem.now()  # Current date and time\n",
    "print(observer.date)\n",
    "\n",
    "# Compute the position of the Sun\n",
    "sun = ephem.Sun()\n",
    "sun.compute(observer)\n",
    "\n",
    "# Get the sub-solar point coordinates\n",
    "sub_solar_latitude = float(sun.dec)*180/math.pi\n",
    "sub_solar_longitude = float(sun.ra)*180/math.pi\n",
    "\n",
    "# Print the computed sub-solar point\n",
    "print(\"Computed Sub-Solar Latitude:\", sub_solar_latitude)\n",
    "print(\"Computed Sub-Solar Longitude:\", sub_solar_longitude)\n"
   ]
  },
  {
   "cell_type": "code",
   "execution_count": 39,
   "metadata": {},
   "outputs": [
    {
     "name": "stdout",
     "output_type": "stream",
     "text": [
      "Computed Sub-Solar Latitude: 21.513417300786468\n",
      "Computed Sub-Solar Longitude: -7.792755142228581\n"
     ]
    }
   ],
   "source": [
    "import ephem\n",
    "\n",
    "# Create an Observer object\n",
    "observer = ephem.Observer()\n",
    "\n",
    "# Set the date and time for the observation\n",
    "observer.date = ephem.now()  # Current date and time\n",
    "\n",
    "# Compute the position of the Sun\n",
    "sun = ephem.Sun()\n",
    "sun.compute(observer)\n",
    "\n",
    "# Get the sub-solar point coordinates\n",
    "sub_solar_latitude = math.degrees(sun.dec)\n",
    "sub_solar_longitude = math.degrees(sun.ra) - 180.0 + 58 - .4\n",
    "\n",
    "# Print the computed sub-solar point\n",
    "print(\"Computed Sub-Solar Latitude:\", sub_solar_latitude)\n",
    "print(\"Computed Sub-Solar Longitude:\", sub_solar_longitude)\n"
   ]
  },
  {
   "cell_type": "code",
   "execution_count": 41,
   "metadata": {},
   "outputs": [
    {
     "name": "stdout",
     "output_type": "stream",
     "text": [
      "Computed Sub-Lunar Latitude: -0.004374053794890642\n",
      "Computed Sub-Lunar Longitude: -178.90472090244293\n"
     ]
    }
   ],
   "source": [
    "import ephem\n",
    "\n",
    "# Create an Observer object\n",
    "observer = ephem.Observer()\n",
    "\n",
    "# Set the date and time for the observation\n",
    "observer.date = ephem.now()  # Current date and time\n",
    "\n",
    "# Compute the previous rising of the Moon\n",
    "moon = ephem.Moon()\n",
    "prev_rising = observer.previous_rising(moon)\n",
    "\n",
    "# Set the observer's date and time to the previous rising\n",
    "observer.date = prev_rising\n",
    "\n",
    "# Compute the position of the Moon\n",
    "moon.compute(observer)\n",
    "\n",
    "# Get the latitude and longitude of the sub-lunar point\n",
    "sub_lunar_latitude = float(moon.alt)\n",
    "sub_lunar_longitude = float(moon.az) - 180.0\n",
    "\n",
    "# Print the computed sub-lunar point\n",
    "print(\"Computed Sub-Lunar Latitude:\", sub_lunar_latitude)\n",
    "print(\"Computed Sub-Lunar Longitude:\", sub_lunar_longitude)\n"
   ]
  },
  {
   "cell_type": "code",
   "execution_count": 60,
   "metadata": {},
   "outputs": [
    {
     "ename": "ValueError",
     "evalue": "cannot interpret a datetime that lacks a timezone\n\nYou must either specify that your datetime is in UTC:\n\n    from skyfield.api import utc\n    d = datetime(..., tzinfo=utc)  # to build a new datetime\n    d = d.replace(tzinfo=utc)      # to fix an existing datetime\n\nOr use a timezone object like those provided by the third-party `pytz` library:\n\n    from pytz import timezone\n    eastern = timezone('US/Eastern')\n    d = eastern.localize(datetime(2014, 1, 16, 1, 32, 9))",
     "output_type": "error",
     "traceback": [
      "\u001b[1;31m---------------------------------------------------------------------------\u001b[0m",
      "\u001b[1;31mValueError\u001b[0m                                Traceback (most recent call last)",
      "Cell \u001b[1;32mIn[60], line 11\u001b[0m\n\u001b[0;32m      9\u001b[0m \u001b[39m# Create a time object for the current time\u001b[39;00m\n\u001b[0;32m     10\u001b[0m ts \u001b[39m=\u001b[39m load\u001b[39m.\u001b[39mtimescale()\n\u001b[1;32m---> 11\u001b[0m current_time \u001b[39m=\u001b[39m ts\u001b[39m.\u001b[39;49mutc(datetime\u001b[39m.\u001b[39;49mutcnow())\n\u001b[0;32m     13\u001b[0m \u001b[39m# Compute the sub-lunar point\u001b[39;00m\n\u001b[0;32m     14\u001b[0m earth \u001b[39m=\u001b[39m data[\u001b[39m'\u001b[39m\u001b[39mearth\u001b[39m\u001b[39m'\u001b[39m]\n",
      "File \u001b[1;32mc:\\Users\\harmk\\AppData\\Local\\Programs\\Python\\Python311\\Lib\\site-packages\\skyfield\\timelib.py:174\u001b[0m, in \u001b[0;36mTimescale.utc\u001b[1;34m(self, year, month, day, hour, minute, second)\u001b[0m\n\u001b[0;32m    171\u001b[0m \u001b[39m# TODO: someday deprecate passing datetime objects here, as\u001b[39;00m\n\u001b[0;32m    172\u001b[0m \u001b[39m# there are now separate constructors for them.\u001b[39;00m\n\u001b[0;32m    173\u001b[0m \u001b[39mif\u001b[39;00m \u001b[39misinstance\u001b[39m(year, datetime):\n\u001b[1;32m--> 174\u001b[0m     \u001b[39mreturn\u001b[39;00m \u001b[39mself\u001b[39;49m\u001b[39m.\u001b[39;49mfrom_datetime(year)\n\u001b[0;32m    175\u001b[0m \u001b[39mif\u001b[39;00m \u001b[39misinstance\u001b[39m(year, date):\n\u001b[0;32m    176\u001b[0m     \u001b[39mreturn\u001b[39;00m \u001b[39mself\u001b[39m\u001b[39m.\u001b[39mfrom_datetime(datetime\u001b[39m.\u001b[39mcombine(year, _time_zero))\n",
      "File \u001b[1;32mc:\\Users\\harmk\\AppData\\Local\\Programs\\Python\\Python311\\Lib\\site-packages\\skyfield\\timelib.py:145\u001b[0m, in \u001b[0;36mTimescale.from_datetime\u001b[1;34m(self, datetime)\u001b[0m\n\u001b[0;32m    136\u001b[0m \u001b[39mdef\u001b[39;00m \u001b[39mfrom_datetime\u001b[39m(\u001b[39mself\u001b[39m, datetime):\n\u001b[0;32m    137\u001b[0m \u001b[39m    \u001b[39m\u001b[39m\"\"\"Return a `Time` for a Python ``datetime``.\u001b[39;00m\n\u001b[0;32m    138\u001b[0m \n\u001b[0;32m    139\u001b[0m \u001b[39m    The ``datetime`` must be “timezone-aware”: it must have a time\u001b[39;00m\n\u001b[1;32m   (...)\u001b[0m\n\u001b[0;32m    143\u001b[0m \n\u001b[0;32m    144\u001b[0m \u001b[39m    \"\"\"\u001b[39;00m\n\u001b[1;32m--> 145\u001b[0m     \u001b[39mreturn\u001b[39;00m \u001b[39mself\u001b[39m\u001b[39m.\u001b[39m_utc(_datetime_to_utc_tuple(datetime))\n",
      "File \u001b[1;32mc:\\Users\\harmk\\AppData\\Local\\Programs\\Python\\Python311\\Lib\\site-packages\\skyfield\\timelib.py:1177\u001b[0m, in \u001b[0;36m_datetime_to_utc_tuple\u001b[1;34m(dt)\u001b[0m\n\u001b[0;32m   1175\u001b[0m z \u001b[39m=\u001b[39m dt\u001b[39m.\u001b[39mtzinfo\n\u001b[0;32m   1176\u001b[0m \u001b[39mif\u001b[39;00m z \u001b[39mis\u001b[39;00m \u001b[39mNone\u001b[39;00m:\n\u001b[1;32m-> 1177\u001b[0m     \u001b[39mraise\u001b[39;00m \u001b[39mValueError\u001b[39;00m(_naive_complaint)\n\u001b[0;32m   1178\u001b[0m \u001b[39mif\u001b[39;00m z \u001b[39mis\u001b[39;00m \u001b[39mnot\u001b[39;00m utc:\n\u001b[0;32m   1179\u001b[0m     dt \u001b[39m=\u001b[39m dt\u001b[39m.\u001b[39mastimezone(utc)\n",
      "\u001b[1;31mValueError\u001b[0m: cannot interpret a datetime that lacks a timezone\n\nYou must either specify that your datetime is in UTC:\n\n    from skyfield.api import utc\n    d = datetime(..., tzinfo=utc)  # to build a new datetime\n    d = d.replace(tzinfo=utc)      # to fix an existing datetime\n\nOr use a timezone object like those provided by the third-party `pytz` library:\n\n    from pytz import timezone\n    eastern = timezone('US/Eastern')\n    d = eastern.localize(datetime(2014, 1, 16, 1, 32, 9))"
     ]
    }
   ],
   "source": [
    "from skyfield.api import Topos, load\n",
    "from datetime import datetime\n",
    "\n",
    "\n",
    "\n",
    "# Load the ephemeris data\n",
    "data = load('de421.bsp')\n",
    "\n",
    "# Create a time object for the current time\n",
    "ts = load.timescale()\n",
    "current_time = ts.utc(datetime.utcnow())\n",
    "\n",
    "# Compute the sub-lunar point\n",
    "earth = data['earth']\n",
    "moon = data['moon']\n",
    "sublunar = earth + moon\n",
    "sublunar_point = sublunar.at(current_time).observe(earth)\n",
    "\n",
    "# Get the sub-lunar point's latitude and longitude\n",
    "sublunar_latitude = sublunar_point.latitude.degrees\n",
    "sublunar_longitude = sublunar_point.longitude.degrees\n",
    "\n",
    "# Print the sub-lunar point\n",
    "print(\"Current sub-lunar point (latitude, longitude):\", sublunar_latitude, sublunar_longitude)\n"
   ]
  }
 ],
 "metadata": {
  "kernelspec": {
   "display_name": "Python 3",
   "language": "python",
   "name": "python3"
  },
  "language_info": {
   "codemirror_mode": {
    "name": "ipython",
    "version": 3
   },
   "file_extension": ".py",
   "mimetype": "text/x-python",
   "name": "python",
   "nbconvert_exporter": "python",
   "pygments_lexer": "ipython3",
   "version": "3.11.4"
  },
  "orig_nbformat": 4
 },
 "nbformat": 4,
 "nbformat_minor": 2
}
