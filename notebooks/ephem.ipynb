{
 "cells": [
  {
   "cell_type": "markdown",
   "metadata": {},
   "source": [
    "Yes, another Python package that can compute the location of the observer given the altitude and azimuth of the Sun is ephem. The ephem package is a powerful astronomy library that provides various astronomical calculations, including the position of celestial bodies.\n",
    "\n",
    "Here's an example of how you can use the ephem package to compute the observer's location based on the altitude and azimuth of the Sun:"
   ]
  },
  {
   "cell_type": "code",
   "execution_count": 5,
   "metadata": {},
   "outputs": [
    {
     "name": "stdout",
     "output_type": "stream",
     "text": [
      "Computed Observer's Latitude: 66.60882969792706\n",
      "Computed Observer's Longitude: 14.12099390996378\n"
     ]
    }
   ],
   "source": [
    "import ephem\n",
    "import math\n",
    "\n",
    "# Define the observed altitude and azimuth of the Sun\n",
    "observed_altitude = math.radians(45.0/180*math.pi)  # in radians\n",
    "observed_azimuth = math.radians(190.0/180*math.pi)  # in radians\n",
    "\n",
    "# Create an Observer object\n",
    "observer = ephem.Observer()\n",
    "observer.lat = '0'  # Set observer's latitude (in this case, 0 degrees)\n",
    "observer.lon = '0'  # Set observer's longitude (in this case, 0 degrees)\n",
    "observer.elev = 0  # Set observer's elevation (in this case, sea level)\n",
    "observer.date = ephem.now()  # Set the current date and time\n",
    "\n",
    "# Compute the observer's location based on the observed altitude and azimuth of the Sun\n",
    "sun = ephem.Sun()\n",
    "sun_altitude = observed_altitude\n",
    "sun_azimuth = observed_azimuth\n",
    "sun.compute(observer)\n",
    "sun_altitude_diff = sun.alt - sun_altitude\n",
    "sun_azimuth_diff = sun.az - sun_azimuth\n",
    "\n",
    "# Update the observer's position based on the computed differences\n",
    "observer.lat += sun_altitude_diff\n",
    "observer.lon += sun_azimuth_diff\n",
    "\n",
    "# Extract the observer's latitude and longitude\n",
    "observer_latitude = math.degrees(observer.lat)\n",
    "observer_longitude = math.degrees(observer.lon)\n",
    "\n",
    "# Print the computed observer's location\n",
    "print(\"Computed Observer's Latitude:\", observer_latitude)\n",
    "print(\"Computed Observer's Longitude:\", observer_longitude)\n"
   ]
  },
  {
   "cell_type": "code",
   "execution_count": 8,
   "metadata": {},
   "outputs": [
    {
     "name": "stdout",
     "output_type": "stream",
     "text": [
      "Computed Sun's Azimuth: 192.24212188858536\n",
      "Computed Sun's Altitude: 65.62014769611623\n"
     ]
    }
   ],
   "source": [
    "import ephem\n",
    "\n",
    "# Create an Observer object\n",
    "observer = ephem.Observer()\n",
    "\n",
    "# Set the observer's location (latitude and longitude)\n",
    "observer.lat = '45.5'  # Example latitude (London, United Kingdom)\n",
    "observer.lon = '11.535'  # Example longitude (London, United Kingdom)\n",
    "\n",
    "# Set the date and time for the observation\n",
    "observer.date = ephem.now()  # Current date and time\n",
    "\n",
    "# Compute the position of the Sun\n",
    "sun = ephem.Sun()\n",
    "sun.compute(observer)\n",
    "\n",
    "# Get the computed azimuth and altitude of the Sun\n",
    "sun_azimuth = float(sun.az)*180/math.pi\n",
    "sun_altitude = float(sun.alt)*180/math.pi\n",
    "\n",
    "# Print the computed location of the Sun\n",
    "print(\"Computed Sun's Azimuth:\", sun_azimuth)\n",
    "print(\"Computed Sun's Altitude:\", sun_altitude)\n"
   ]
  },
  {
   "cell_type": "code",
   "execution_count": 10,
   "metadata": {},
   "outputs": [
    {
     "name": "stdout",
     "output_type": "stream",
     "text": [
      "Computed Direction to Polaris (Azimuth): 359.06323591286707\n",
      "Computed Direction to Polaris (Altitude): 51.793027362977796\n"
     ]
    }
   ],
   "source": [
    "import ephem\n",
    "import math\n",
    "\n",
    "# Create an Observer object\n",
    "observer = ephem.Observer()\n",
    "\n",
    "# Set the observer's location (latitude and longitude)\n",
    "observer.lat = '51.5074'  # Example latitude (London, United Kingdom)\n",
    "observer.lon = '-0.1278'  # Example longitude (London, United Kingdom)\n",
    "\n",
    "# Set the date and time for the observation\n",
    "observer.date = ephem.now()  # Current date and time\n",
    "\n",
    "# Compute the position of Polaris (North Star)\n",
    "polaris = ephem.star('Polaris')\n",
    "polaris.compute(observer)\n",
    "\n",
    "# Get the computed azimuth and altitude of Polaris\n",
    "polaris_azimuth = math.degrees(polaris.az)\n",
    "polaris_altitude = math.degrees(polaris.alt)\n",
    "\n",
    "# Print the computed direction to Polaris\n",
    "print(\"Computed Direction to Polaris (Azimuth):\", polaris_azimuth)\n",
    "print(\"Computed Direction to Polaris (Altitude):\", polaris_altitude)\n"
   ]
  },
  {
   "cell_type": "code",
   "execution_count": 11,
   "metadata": {},
   "outputs": [
    {
     "name": "stdout",
     "output_type": "stream",
     "text": [
      "Computed Observer's Latitude: 160.5532443148325\n",
      "Computed Observer's Longitude: 37.892418550561835\n"
     ]
    }
   ],
   "source": [
    "import ephem\n",
    "import math\n",
    "\n",
    "# Define the observed azimuth and altitude of Polaris\n",
    "observed_azimuth = math.radians(45.0)  # in radians\n",
    "observed_altitude = math.radians(30.0)  # in radians\n",
    "\n",
    "# Create an Observer object\n",
    "observer = ephem.Observer()\n",
    "\n",
    "# Set the date and time for the observation\n",
    "observer.date = ephem.now()  # Current date and time\n",
    "\n",
    "# Compute the observer's location based on the observed azimuth and altitude of Polaris\n",
    "polaris = ephem.star('Polaris')\n",
    "polaris_azimuth = observed_azimuth\n",
    "polaris_altitude = observed_altitude\n",
    "observer.lat, observer.lon = observer.radec_of(polaris_azimuth, polaris_altitude)\n",
    "\n",
    "# Extract the observer's latitude and longitude\n",
    "observer_latitude = math.degrees(observer.lat)\n",
    "observer_longitude = math.degrees(observer.lon)\n",
    "\n",
    "# Print the computed observer's location\n",
    "print(\"Computed Observer's Latitude:\", observer_latitude)\n",
    "print(\"Computed Observer's Longitude:\", observer_longitude)\n"
   ]
  },
  {
   "cell_type": "markdown",
   "metadata": {},
   "source": [
    "Here are some of the celestial bodies and phenomena that ephem can work with:\n",
    "\n",
    "Sun: The ephem.Sun class represents the Sun and allows you to compute its position, rise and set times, azimuth, altitude, and other related properties.\n",
    "\n",
    "Moon: The ephem.Moon class represents the Moon and provides information about its position, phase, rise and set times, azimuth, altitude, and more.\n",
    "\n",
    "Planets: ephem includes classes for the major planets of our solar system, such as ephem.Mercury, ephem.Venus, ephem.Mars, ephem.Jupiter, ephem.Saturn, ephem.Uranus, and ephem.Neptune. These classes allow you to compute the positions, rise and set times, azimuth, altitude, and other properties of each planet.\n",
    "\n",
    "Stars and Constellations: ephem can compute the positions and properties of individual stars using the ephem.star class. It also includes a ephem.readdb() function to read star catalogs. However, it does not have built-in support for constellations as predefined entities."
   ]
  }
 ],
 "metadata": {
  "kernelspec": {
   "display_name": "Python 3",
   "language": "python",
   "name": "python3"
  },
  "language_info": {
   "codemirror_mode": {
    "name": "ipython",
    "version": 3
   },
   "file_extension": ".py",
   "mimetype": "text/x-python",
   "name": "python",
   "nbconvert_exporter": "python",
   "pygments_lexer": "ipython3",
   "version": "3.11.4"
  },
  "orig_nbformat": 4
 },
 "nbformat": 4,
 "nbformat_minor": 2
}
