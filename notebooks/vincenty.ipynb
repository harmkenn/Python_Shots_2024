{
 "cells": [
  {
   "cell_type": "markdown",
   "metadata": {},
   "source": [
    "https://en.wikipedia.org/wiki/Vincenty%27s_formulae"
   ]
  },
  {
   "cell_type": "code",
   "execution_count": 2,
   "metadata": {},
   "outputs": [],
   "source": [
    "from numpy import sqrt,pi,cos,sin,tan,arctan,arctan2\n",
    "a=6378137.0\n",
    "f = 1/298.257223563\n",
    "b = (1-f)*a\n",
    "lat1d=0\n",
    "lon1d=3\n",
    "lat2d=0\n",
    "lon2d=5\n",
    "lat1r=lat1d*pi/180\n",
    "lon1r=lon1d*pi/180\n",
    "lat2r=lat2d*pi/180\n",
    "lon2r=lon2d*pi/180\n",
    "U1 = arctan((1-f)*tan(lat1r))\n",
    "U2 = arctan((1-f)*tan(lat2r))\n",
    "L = lon2r-lon1r\n",
    "lam = L\n",
    "\n",
    "for i in range(7):\n",
    "    sinσ = sqrt((cos(U2)*sin(lam))**2+(cos(U1)*sin(U2)-sin(U1)*cos(U2)*cos(lam))**2)\n",
    "    cosσ = sin(U1)*sin(U2)+cos(U1)*cos(U2)*cos(lam)\n",
    "    σ = arctan2(sinσ,cosσ)\n",
    "    sinα = cos(U1)*cos(U2)*sin(lam) / sinσ\n",
    "    cos2α = 1 - sinα**2\n",
    "    if cos2α == 0: cos2α = .000000000001\n",
    "    cos2σm = cosσ - 2*sin(U1)*sin(U2) / cos2α\n",
    "    C = f/16*cos2α*(4+f*(4-3*cos2α))\n",
    "    lam = L+(1-C)*f*sinα*(σ+C*sinσ*(cos2σm+C*cosσ*(-1+2*cos2σm**2)))\n",
    "\n",
    "u2 = cos2α*(a**2/b**2-1)\n",
    "A = 1+u2/16384*(4096+u2*(-768+u2*(320-175*u2)))\n",
    "B = u2/1024*(256+u2*(-128+u2*(74-47*u2)))\n",
    "Δσ = B*sinσ*(cos2σm+B/4*(cosσ*(-1+2*cos2σm**2)-B/6*cos2σm*(-3+4*sinσ**2)*(-3+4*cos2σm**2)))\n",
    "s = b*A*(σ-Δσ)\n",
    "\n",
    "\n"
   ]
  },
  {
   "cell_type": "code",
   "execution_count": 15,
   "metadata": {},
   "outputs": [],
   "source": [
    "from numpy import sqrt,pi,cos,sin,tan,arctan,arctan2\n",
    "\n",
    "lat1d=73\n",
    "lon1d=-155\n",
    "lat2d=-7\n",
    "lon2d=126\n",
    "lat1r=lat1d*pi/180\n",
    "lon1r=lon1d*pi/180\n",
    "lat2r=lat2d*pi/180\n",
    "lon2r=lon2d*pi/180\n",
    "\n",
    "faz = arctan2(sin(lon2r-lon1r)*cos(lat1r),cos(lat1r)*sin(lat2r)-sin(lat1r)*cos(lat2r)*cos(lon2r-lon1r))\n",
    "fazd = (faz*180/pi+360)%360\n",
    "baz = arctan2(sin(lon1r-lon2r)*cos(lat2r),cos(lat2r)*sin(lat1r)-sin(lat2r)*cos(lat1r)*cos(lon1r-lon2r))\n",
    "bazd = (baz*180/pi+360)%360\n",
    "iazd = (bazd+180)%360"
   ]
  },
  {
   "cell_type": "code",
   "execution_count": 11,
   "metadata": {},
   "outputs": [],
   "source": [
    "from numpy import sqrt,pi,cos,sin,tan,arctan,arctan2,arcsin\n",
    "# https://en.wikipedia.org/wiki/Vincenty%27s_formulae\n",
    "lat1d = -30.73288968\n",
    "lon1d = 33\n",
    "dird = 120\n",
    "distm = 25000\n",
    "a=6378137.0\n",
    "f = 1/298.257223563\n",
    "b = (1-f)*a\n",
    "lat1r = lat1d*pi/180\n",
    "lon1r = lon1d*pi/180\n",
    "gα1 = dird*pi/180\n",
    "s = distm\n",
    "U1 = arctan((1-f)*tan(lat1r))\n",
    "gσ0 =arctan2(tan(U1),cos(gα1)) \n",
    "sinα = cos(U1)*sin(gα1)\n",
    "gα = arcsin(sinα)\n",
    "u2 = cos(gα)**2*(a**2/b**2-1)\n",
    "A = 1+u2/16384*(4096+u2*(-768+u2*(320-175*u2)))\n",
    "B = u2/1024*(256+u2*(-128+u2*(74-47*u2)))\n",
    "gσ1 = s/b*A\n",
    "\n",
    "for i in range(5):\n",
    "    gσm = gσ0+gσ1/2\n",
    "    gΔσ = B*sin(gσ1)*(cos(2*gσm)+B/4*(cos(gσ1)*(-1+2*cos(2*gσm)**2)-B/6*cos(2*gσm)*(-3+4*sin(gσ1)**2)*(-3+4*cos(2*gσm)**2)))\n",
    "    gσ1 = s/b*A+gΔσ\n",
    "\n",
    "lat2r = arctan2(sin(U1)*cos(gσ1)+cos(U1)*sin(gσ1)*cos(gα1),(1-f)*sqrt(sin(gα)**2+(sin(U1)*sin(gσ1)-cos(U1)*cos(gσ1)*cos(gα1))**2))\n",
    "gλ = arctan2(sin(gσ1)*sin(gα1),cos(U1)*cos(gσ1)-sin(U1)*sin(gσ1)*cos(gα1))\n",
    "C = f/16*cos(gα)**2*(4+f*(4-3*cos(gα)**2))\n",
    "L = gλ-(1-C)*f*sinα*(gσ1+C*sin(gσ1)*(cos(2*gσm)+C*cos(gσ1)*(-1+2*cos(2*gσm)**2)))\n"
   ]
  }
 ],
 "metadata": {
  "kernelspec": {
   "display_name": "Python 3",
   "language": "python",
   "name": "python3"
  },
  "language_info": {
   "codemirror_mode": {
    "name": "ipython",
    "version": 3
   },
   "file_extension": ".py",
   "mimetype": "text/x-python",
   "name": "python",
   "nbconvert_exporter": "python",
   "pygments_lexer": "ipython3",
   "version": "3.12.0"
  }
 },
 "nbformat": 4,
 "nbformat_minor": 2
}
