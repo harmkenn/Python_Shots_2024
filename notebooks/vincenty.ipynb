{
 "cells": [
  {
   "cell_type": "markdown",
   "metadata": {},
   "source": [
    "https://en.wikipedia.org/wiki/Vincenty%27s_formulae"
   ]
  },
  {
   "cell_type": "code",
   "execution_count": 25,
   "metadata": {},
   "outputs": [],
   "source": [
    "from numpy import sqrt,pi,cos,sin,tan,arctan,arctan2\n",
    "a=6378137.0\n",
    "f = 1/298.257223563\n",
    "b = (1-f)*a\n",
    "lat1d=30.0\n",
    "lon1d=-80.0\n",
    "lat2d=-10\n",
    "lon2d=10\n",
    "lat1r=lat1d*pi/180\n",
    "lon1r=lon1d*pi/180\n",
    "lat2r=lat2d*pi/180\n",
    "lon2r=lon2d*pi/180\n",
    "U1 = arctan((1-f)*tan(lat1r))\n",
    "U2 = arctan((1-f)*tan(lat2r))\n",
    "L = lon2r-lon1r\n",
    "lam = L\n",
    "\n",
    "for i in range(7):\n",
    "    sinσ = sqrt((cos(U2)*sin(lam))**2+(cos(U1)*sin(U2)-sin(U1)*cos(U2)*cos(lam))**2)\n",
    "    cosσ = sin(U1)*sin(U2)+cos(U1)*cos(U2)*cos(lam)\n",
    "    σ = arctan2(sinσ,cosσ)\n",
    "    sinα = cos(U1)*cos(U2)*sin(lam) / sinσ\n",
    "    cos2α = 1 - sinα**2\n",
    "    cos2σm = cosσ - 2*sin(U1)*sin(U2) / cos2α\n",
    "    C = f/16*cos2α*(4+f*(4-3*cos2α))\n",
    "    lam = L+(1-C)*f*sinα*(σ+C*sinσ*(cos2σm+C*cosσ*(-1+2*cos2σm**2)))\n",
    "\n",
    "u2 = cos2α*(a**2/b**2-1)\n",
    "A = 1+u2/16384*(4096+u2*(-768+u2*(320-175*u2)))\n",
    "B = u2/1024*(256+u2*(-128+u2*(74-47*u2)))\n",
    "Δσ = B*sinσ*(cos2σm+B/4*(cosσ*(-1+2*cos2σm**2)-B/6*cos2σm*(-3+4*sinσ**2)*(-3+4*cos2σm**2)))\n",
    "s = b*A*(σ-Δσ)\n",
    "\n",
    "\n"
   ]
  }
 ],
 "metadata": {
  "kernelspec": {
   "display_name": "Python 3",
   "language": "python",
   "name": "python3"
  },
  "language_info": {
   "codemirror_mode": {
    "name": "ipython",
    "version": 3
   },
   "file_extension": ".py",
   "mimetype": "text/x-python",
   "name": "python",
   "nbconvert_exporter": "python",
   "pygments_lexer": "ipython3",
   "version": "3.12.0"
  }
 },
 "nbformat": 4,
 "nbformat_minor": 2
}
