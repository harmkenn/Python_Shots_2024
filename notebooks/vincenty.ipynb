{
 "cells": [
  {
   "cell_type": "markdown",
   "metadata": {},
   "source": [
    "https://en.wikipedia.org/wiki/Vincenty%27s_formulae"
   ]
  },
  {
   "cell_type": "code",
   "execution_count": 1,
   "metadata": {},
   "outputs": [],
   "source": [
    "from numpy import pi, arctan, tan, sqrt, cos, sin, arctan2\n",
    "\n",
    "def LLDist(lat1d,lon1d,lat2d,lon2d):\n",
    "    # https://en.wikipedia.org/wiki/Vincenty%27s_formulae\n",
    "    a=6378137.0\n",
    "    f = 1/298.257223563\n",
    "    b = (1-f)*a\n",
    "    lat1r=lat1d*pi/180\n",
    "    lon1r=lon1d*pi/180\n",
    "    lat2r=lat2d*pi/180\n",
    "    lon2r=lon2d*pi/180\n",
    "    U1 = arctan((1-f)*tan(lat1r))\n",
    "    U2 = arctan((1-f)*tan(lat2r))\n",
    "    L = lon2r-lon1r\n",
    "    lam = L\n",
    "\n",
    "    for i in range(7):\n",
    "        sinσ = sqrt((cos(U2)*sin(lam))**2+(cos(U1)*sin(U2)-sin(U1)*cos(U2)*cos(lam))**2)\n",
    "        cosσ = sin(U1)*sin(U2)+cos(U1)*cos(U2)*cos(lam)\n",
    "        σ = arctan2(sinσ,cosσ)\n",
    "        sinα = cos(U1)*cos(U2)*sin(lam) / sinσ\n",
    "        cos2α = 1 - sinα**2\n",
    "        if cos2α == 0: cos2α = .000000000001\n",
    "        cos2σm = cosσ - 2*sin(U1)*sin(U2) / cos2α\n",
    "        C = f/16*cos2α*(4+f*(4-3*cos2α))\n",
    "        lam = L+(1-C)*f*sinα*(σ+C*sinσ*(cos2σm+C*cosσ*(-1+2*cos2σm**2)))\n",
    "\n",
    "    u2 = cos2α*(a**2/b**2-1)\n",
    "    A = 1+u2/16384*(4096+u2*(-768+u2*(320-175*u2)))\n",
    "    B = u2/1024*(256+u2*(-128+u2*(74-47*u2)))\n",
    "    Δσ = B*sinσ*(cos2σm+B/4*(cosσ*(-1+2*cos2σm**2)-B/6*cos2σm*(-3+4*sinσ**2)*(-3+4*cos2σm**2)))\n",
    "    dist = b*A*(σ-Δσ)\n",
    "\n",
    "    lazr = arctan2(sin(lon2r-lon1r)*cos(lat2r),cos(lat1r)*sin(lat2r)-sin(lat1r)*cos(lat2r)*cos(lon2r-lon1r))\n",
    "    lazd = (lazr*180/pi+360)%360\n",
    "    bazr = arctan2(sin(lon1r-lon2r)*cos(lat1r),cos(lat2r)*sin(lat1r)-sin(lat2r)*cos(lat1r)*cos(lon1r-lon2r))\n",
    "    bazd = (bazr*180/pi+360)%360\n",
    "    iazd = (bazd+180)%360\n",
    "\n",
    "    return [dist,lazd,bazd,iazd]\n",
    "\n"
   ]
  },
  {
   "cell_type": "code",
   "execution_count": 2,
   "metadata": {},
   "outputs": [
    {
     "data": {
      "text/plain": [
       "[10592890.73062917, 226.30950192831196, 54.83087023279677, 234.83087023279677]"
      ]
     },
     "execution_count": 2,
     "metadata": {},
     "output_type": "execute_result"
    }
   ],
   "source": [
    "LLDist(30,30,-40,-40)"
   ]
  },
  {
   "cell_type": "code",
   "execution_count": 3,
   "metadata": {},
   "outputs": [],
   "source": [
    "from numpy import pi, arctan, tan, sqrt, cos, sin, arctan2\n",
    "\n",
    "def vPolar(lat1d,lon1d,lazd,dists):\n",
    "    # https://en.wikipedia.org/wiki/Vincenty%27s_formulae\n",
    "    a=6378137.0\n",
    "    f = 1/298.257223563\n",
    "    b = (1-f)*a\n",
    " \n",
    "    lat1r=lat1d*pi/180\n",
    "    lon1r=lon1d*pi/180\n",
    "    lazr = lazd*pi/180\n",
    "    U1 = arctan((1-f)*tan(lat1r))\n",
    "    sig1 = arctan2(tan(U1),cos(lazr))\n",
    "    sinα = cos(U1)*sin(lazr)\n",
    "    u2 = (1-sinα**2)*(a**2/b**2-1)\n",
    "    k1 = (sqrt(1+u2)-1)/(sqrt(1+u2)+1)\n",
    "    A = (1+.25*k1**2)/(1-k1)\n",
    "    B = k1*(1-3/8*k1**2)\n",
    "    sig = dists/b/A\n",
    "\n",
    "    for i in range(4):\n",
    "        tsm = 2*sig1+sig\n",
    "        dsig = B*sin(sig)*(cos(tsm)+B/4*(cos(sig)*(-1+2*cos(tsm))-B/6*cos(tsm)*(-3+4*sin(sig)**2)*(-3+4*cos(tsm)**2)))\n",
    "        sig = dists/b/A+dsig\n",
    "\n",
    "    lat2r = arctan2(sin(U1)*cos(sig)+cos(U1)*sin(sig)*cos(lazr),(1-f)*sqrt(sinα**2+(sin(U1)*sin(sig)-cos(U1)*cos(sig)*cos(lazr))**2))\n",
    "    lam = arctan2(sin(sig)*sin(lazr),cos(U1)*cos(sig)-sin(U1)*sin(sig)*cos(lazr))\n",
    "    C = f/16*(1-sinα**2)*(4+f*(4-3*(1-sinα**2)))\n",
    "    L = lam-(1-C)*f*sinα*(sig+C*sin(sig)*(cos(tsm)+C*cos(sig)*(-1+2*cos(tsm)**2)))\n",
    "    lon2r = L+lon1r\n",
    "    lat2d = lat2r*180/pi\n",
    "    lon2d = lon2r*180/pi\n",
    "    more = LLDist(lat1d,lon1d,lat2d,lon2d)\n",
    "    iazd = more[3]\n",
    "    return [lat2d,lon2d,lazd,iazd]"
   ]
  },
  {
   "cell_type": "code",
   "execution_count": 4,
   "metadata": {},
   "outputs": [
    {
     "data": {
      "text/plain": [
       "[26.576021889618417, 20.563612677272232, 250, 245.41326717553181]"
      ]
     },
     "execution_count": 4,
     "metadata": {},
     "output_type": "execute_result"
    }
   ],
   "source": [
    "vPolar(30,30,250,1000000)"
   ]
  },
  {
   "cell_type": "code",
   "execution_count": 5,
   "metadata": {},
   "outputs": [],
   "source": [
    "# I am Creating a reverse polar method\n",
    "\n",
    "from numpy import sqrt,pi,cos,sin,tan,arctan,arctan2,arcsin\n",
    "\n",
    "def revVpolar(lat2d,lon2d,lazd,distm):\n",
    "    rlazl = (lazd+180)%360\n",
    "    taz = rlazl\n",
    "    for i in range(20):\n",
    "        temp = vPolar(lat2d,lon2d,taz,distm)\n",
    "        #print(temp)\n",
    "        taz = taz - (temp[3]-rlazl)\n",
    "        \n",
    "\n",
    "    lat1d = temp[0]\n",
    "    lon1d = temp[1]\n",
    "    liazr = (taz +180)%360\n",
    "\n",
    "    return [lat1d,lon1d, lazd, liazr]\n",
    "\n"
   ]
  },
  {
   "cell_type": "code",
   "execution_count": 7,
   "metadata": {},
   "outputs": [
    {
     "data": {
      "text/plain": [
       "[26.514588513178506, 20.595011333492717, 65, 69.56900805165316]"
      ]
     },
     "execution_count": 7,
     "metadata": {},
     "output_type": "execute_result"
    }
   ],
   "source": [
    "revVpolar(30,30,65,1000000)"
   ]
  }
 ],
 "metadata": {
  "kernelspec": {
   "display_name": "Python 3",
   "language": "python",
   "name": "python3"
  },
  "language_info": {
   "codemirror_mode": {
    "name": "ipython",
    "version": 3
   },
   "file_extension": ".py",
   "mimetype": "text/x-python",
   "name": "python",
   "nbconvert_exporter": "python",
   "pygments_lexer": "ipython3",
   "version": "3.12.1"
  }
 },
 "nbformat": 4,
 "nbformat_minor": 2
}
