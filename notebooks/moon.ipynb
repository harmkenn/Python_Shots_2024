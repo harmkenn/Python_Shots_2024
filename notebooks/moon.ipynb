{
 "cells": [
  {
   "attachments": {},
   "cell_type": "markdown",
   "metadata": {},
   "source": [
    "To perform MGRS to latitude and longitude conversions in Python using the GeographicLib library, you can follow these steps:\n",
    "\n",
    "Step 1: Install GeographicLib\n",
    "Ensure that you have the GeographicLib library installed in your Python environment. You can install it using pip:"
   ]
  },
  {
   "cell_type": "code",
   "execution_count": 1,
   "metadata": {},
   "outputs": [
    {
     "name": "stdout",
     "output_type": "stream",
     "text": [
      "Collecting geographiclib\n",
      "  Downloading geographiclib-2.0-py3-none-any.whl (40 kB)\n",
      "                                              0.0/40.3 kB ? eta -:--:--\n",
      "     ----------------------------           30.7/40.3 kB 640.0 kB/s eta 0:00:01\n",
      "     -------------------------------------- 40.3/40.3 kB 320.0 kB/s eta 0:00:00\n",
      "Installing collected packages: geographiclib\n",
      "Successfully installed geographiclib-2.0\n",
      "Note: you may need to restart the kernel to use updated packages.\n"
     ]
    }
   ],
   "source": [
    "pip install geographiclib\n"
   ]
  },
  {
   "cell_type": "code",
   "execution_count": 2,
   "metadata": {},
   "outputs": [
    {
     "name": "stdout",
     "output_type": "stream",
     "text": [
      "Collecting pip\n",
      "  Downloading pip-23.1.2-py3-none-any.whl (2.1 MB)\n",
      "\u001b[K     |████████████████████████████████| 2.1 MB 998 kB/s eta 0:00:01\n",
      "\u001b[?25hInstalling collected packages: pip\n",
      "Successfully installed pip-23.1.2\n",
      "Note: you may need to restart the kernel to use updated packages.\n"
     ]
    }
   ],
   "source": [
    "pip install --upgrade pip"
   ]
  },
  {
   "cell_type": "code",
   "execution_count": 2,
   "metadata": {},
   "outputs": [
    {
     "ename": "ImportError",
     "evalue": "cannot import name 'MGRS' from 'geographiclib' (/home/gitpod/.pyenv/versions/3.11.1/lib/python3.11/site-packages/geographiclib/__init__.py)",
     "output_type": "error",
     "traceback": [
      "\u001b[0;31m---------------------------------------------------------------------------\u001b[0m",
      "\u001b[0;31mImportError\u001b[0m                               Traceback (most recent call last)",
      "Cell \u001b[0;32mIn[2], line 2\u001b[0m\n\u001b[1;32m      1\u001b[0m \u001b[39mfrom\u001b[39;00m \u001b[39mgeographiclib\u001b[39;00m\u001b[39m.\u001b[39;00m\u001b[39mgeodesic\u001b[39;00m \u001b[39mimport\u001b[39;00m Geodesic\n\u001b[0;32m----> 2\u001b[0m \u001b[39mfrom\u001b[39;00m \u001b[39mgeographiclib\u001b[39;00m \u001b[39mimport\u001b[39;00m MGRS\n",
      "\u001b[0;31mImportError\u001b[0m: cannot import name 'MGRS' from 'geographiclib' (/home/gitpod/.pyenv/versions/3.11.1/lib/python3.11/site-packages/geographiclib/__init__.py)"
     ]
    }
   ],
   "source": [
    "from geographiclib.geodesic import Geodesic\n",
    "from geographiclib import MGRS\n"
   ]
  },
  {
   "attachments": {},
   "cell_type": "markdown",
   "metadata": {},
   "source": [
    "Yes, there are Python libraries and programs available that can help you calculate your position based on the azimuth and direction of the moon. One such library is PyEphem, which allows for celestial computations and provides functions to determine positions of celestial objects like the moon. Here's an example of how you can use PyEphem to calculate your position:\n",
    "\n",
    "Step 1: Install PyEphem\n",
    "Ensure that you have PyEphem installed in your Python environment. You can install it using pip:"
   ]
  },
  {
   "cell_type": "code",
   "execution_count": 3,
   "metadata": {},
   "outputs": [
    {
     "name": "stdout",
     "output_type": "stream",
     "text": [
      "Collecting ephem\n",
      "  Downloading ephem-4.1.4-cp311-cp311-manylinux_2_17_x86_64.manylinux2014_x86_64.whl (1.8 MB)\n",
      "\u001b[2K     \u001b[90m━━━━━━━━━━━━━━━━━━━━━━━━━━━━━━━━━━━━━━━━\u001b[0m \u001b[32m1.8/1.8 MB\u001b[0m \u001b[31m16.8 MB/s\u001b[0m eta \u001b[36m0:00:00\u001b[0m00:01\u001b[0m00:01\u001b[0m\n",
      "\u001b[?25hInstalling collected packages: ephem\n",
      "Successfully installed ephem-4.1.4\n",
      "Note: you may need to restart the kernel to use updated packages.\n"
     ]
    }
   ],
   "source": [
    "pip install ephem"
   ]
  },
  {
   "cell_type": "code",
   "execution_count": 4,
   "metadata": {},
   "outputs": [
    {
     "name": "stdout",
     "output_type": "stream",
     "text": [
      "Azimuth: 249:43:53.9\n",
      "Altitude: -7:43:16.3\n"
     ]
    }
   ],
   "source": [
    "import ephem\n",
    "\n",
    "# Set your observer location\n",
    "observer = ephem.Observer()\n",
    "observer.lat = '51.5074'  # Set your latitude (e.g., London)\n",
    "observer.lon = '-0.1278'  # Set your longitude (e.g., London)\n",
    "\n",
    "# Set the current date and time\n",
    "observer.date = ephem.now()\n",
    "\n",
    "# Create a moon object\n",
    "moon = ephem.Moon()\n",
    "\n",
    "# Calculate the moon's position\n",
    "moon.compute(observer)\n",
    "\n",
    "# Get the azimuth and altitude of the moon\n",
    "azimuth = moon.az\n",
    "altitude = moon.alt\n",
    "\n",
    "# Print the results\n",
    "print(\"Azimuth:\", azimuth)\n",
    "print(\"Altitude:\", altitude)\n"
   ]
  },
  {
   "cell_type": "code",
   "execution_count": 5,
   "metadata": {},
   "outputs": [
    {
     "name": "stdout",
     "output_type": "stream",
     "text": [
      "<class 'ephem.Moon'>\n"
     ]
    }
   ],
   "source": [
    "print(ephem.Moon)"
   ]
  },
  {
   "cell_type": "code",
   "execution_count": null,
   "metadata": {},
   "outputs": [],
   "source": [
    "ephem.sun"
   ]
  }
 ],
 "metadata": {
  "kernelspec": {
   "display_name": "Python 3",
   "language": "python",
   "name": "python3"
  },
  "language_info": {
   "codemirror_mode": {
    "name": "ipython",
    "version": 3
   },
   "file_extension": ".py",
   "mimetype": "text/x-python",
   "name": "python",
   "nbconvert_exporter": "python",
   "pygments_lexer": "ipython3",
   "version": "3.11.4"
  },
  "orig_nbformat": 4
 },
 "nbformat": 4,
 "nbformat_minor": 2
}
